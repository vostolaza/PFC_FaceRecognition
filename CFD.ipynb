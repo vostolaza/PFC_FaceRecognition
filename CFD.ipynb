{
  "cells": [
    {
      "cell_type": "code",
      "execution_count": null,
      "metadata": {
        "id": "z0x6xsndhSrP"
      },
      "outputs": [],
      "source": [
        "# pip install face_recognition"
      ]
    },
    {
      "cell_type": "code",
      "execution_count": null,
      "metadata": {
        "id": "vBsH-hjviTFk"
      },
      "outputs": [],
      "source": [
        "# from google.colab import drive\n",
        "# drive.mount('/content/drive')"
      ]
    },
    {
      "cell_type": "code",
      "execution_count": null,
      "metadata": {
        "id": "gmNz2-T1i6io"
      },
      "outputs": [],
      "source": [
        "# !tar -xvf /content/drive/MyDrive/colorferet.tar"
      ]
    },
    {
      "cell_type": "code",
      "execution_count": 1,
      "metadata": {
        "id": "sQjRf4Hrf63q"
      },
      "outputs": [],
      "source": [
        "import face_recognition\n",
        "from email.mime import base\n",
        "#from utils import IMAGE_PATH\n",
        "import numpy as np\n",
        "import random as rd\n",
        "import os\n",
        "import shutil\n",
        "import bz2\n",
        "import time\n",
        "import pickle\n",
        "#import utils\n",
        "import json\n",
        "from sklearn import svm\n",
        "from sklearn.decomposition import PCA\n",
        "from sklearn.preprocessing import StandardScaler\n",
        "from sklearn.neighbors import KNeighborsClassifier\n",
        "from PIL import Image\n",
        "import PIL.ImageOps"
      ]
    },
    {
      "cell_type": "code",
      "execution_count": 2,
      "metadata": {
        "id": "s6wY1XwbsCH1"
      },
      "outputs": [],
      "source": [
        "if not os.path.exists('images/'):\n",
        "    os.mkdir('images/')"
      ]
    },
    {
      "cell_type": "markdown",
      "metadata": {
        "id": "TqbGT0ibqrRT"
      },
      "source": [
        "### Putting all files in a single folder"
      ]
    },
    {
      "cell_type": "code",
      "execution_count": 4,
      "metadata": {
        "id": "AeEdf337qvcc"
      },
      "outputs": [],
      "source": [
        "i = 1\n",
        "for folder in os.listdir(f'CFD Version 3.0/Images/CFD'):\n",
        "    #if folder has more than two images copy it to the images folder\n",
        "    #if folder is a folder\n",
        "    if os.path.isdir(f'CFD Version 3.0/Images/CFD/{folder}'):\n",
        "        if len(os.listdir(f'CFD Version 3.0/Images/CFD/{folder}')) > 2:\n",
        "            os.mkdir(f'images/{str(i).zfill(4)}')\n",
        "            for file in os.listdir(f'CFD Version 3.0/Images/CFD/{folder}'):\n",
        "                shutil.copy(f'CFD Version 3.0/Images/CFD/{folder}/{file}', f'images/{str(i).zfill(4)}/{file}')\n",
        "            i += 1"
      ]
    },
    {
      "cell_type": "markdown",
      "metadata": {
        "id": "FegVmfrNs5_L"
      },
      "source": [
        "### Generate test set"
      ]
    },
    {
      "cell_type": "code",
      "execution_count": null,
      "metadata": {
        "id": "2q3e38uqs4Tf"
      },
      "outputs": [],
      "source": [
        "from random import randint\n",
        "import os\n",
        "import json\n",
        "\n",
        "NSAMPLES = 79\n",
        "\n",
        "def generate_set(output_path, set):\n",
        "    d = {}\n",
        "    for i in range(NSAMPLES):\n",
        "        set = []\n",
        "        final_idx = -1\n",
        "        while (len(set) < 2):\n",
        "            idx = randint(0, 158)\n",
        "            if idx in d: continue\n",
        "            if idx in set: continue\n",
        "            folder = 'images/' + str(idx).zfill(4)\n",
        "            if not os.path.exists(folder): continue\n",
        "            for img in os.listdir(folder):\n",
        "                if img.endswith(\".jpg\"):\n",
        "                    img_path = folder + '/' + img\n",
        "                    set.append(img_path)\n",
        "                if len(set) == 2: break\n",
        "            final_idx = idx\n",
        "        while len(set) < 3:\n",
        "            idx = randint(0, 1209)\n",
        "            if idx == final_idx: continue\n",
        "            folder = 'images/' + str(idx).zfill(4)\n",
        "            if not os.path.exists(folder): continue\n",
        "            for img in os.listdir(folder):\n",
        "                if img.endswith(\".jpg\"):\n",
        "                    img_path = folder + '/' + img\n",
        "                    set.append(img_path)\n",
        "                    break\n",
        "        d[final_idx] = set\n",
        "    with open(output_path, 'w') as f:\n",
        "        json.dump(d, f, indent=2)\n",
        "    return d\n",
        "\n",
        "x = {}\n",
        "train = generate_set('train_set.json', x)\n",
        "generate_set('test_set.json', train)"
      ]
    },
    {
      "cell_type": "code",
      "execution_count": 3,
      "metadata": {
        "id": "IUVv12Yxf63w"
      },
      "outputs": [],
      "source": [
        "N_SAMPLES = 10\n",
        "PCA_N_COMPONENTS=25\n",
        "N_NEIGHBORS=10"
      ]
    },
    {
      "cell_type": "code",
      "execution_count": 53,
      "metadata": {
        "id": "1aBiIITFf63y"
      },
      "outputs": [],
      "source": [
        "def get_image(path):\n",
        "    picture = face_recognition.load_image_file(path)\n",
        "    return face_recognition.face_encodings(picture)[0]\n",
        "\n",
        "\n",
        "def generate_C1(set):\n",
        "    return get_image(set[0]) - get_image(set[1])\n",
        "\n",
        "def generate_C2(set):\n",
        "    return get_image(set[0]) - get_image(set[2])"
      ]
    },
    {
      "cell_type": "code",
      "execution_count": 5,
      "metadata": {
        "id": "hh4L3h5rf63z"
      },
      "outputs": [],
      "source": [
        "def get_sets(dataset='train'):\n",
        "    with open(\"{}_set.json\".format(dataset)) as f:\n",
        "        individuals = json.load(f)\n",
        "\n",
        "    C1 = []\n",
        "    C2 = []\n",
        "\n",
        "    count = 0\n",
        "    for dir, set in individuals.items():\n",
        "        # print(\"Generating C1 for {}...\".format(dir))\n",
        "        C1.append(generate_C1(set))\n",
        "        # print(\"Generating C2 for {}...\".format(dir))\n",
        "        C2.append(generate_C2(set))\n",
        "        if count == 50: break\n",
        "        \n",
        "    return[*C1, *C2], [*[1 for individual in C1], *[0 for individual in C2]]"
      ]
    },
    {
      "cell_type": "code",
      "execution_count": 6,
      "metadata": {
        "id": "CSZNb-elf631"
      },
      "outputs": [],
      "source": [
        "def new_train_svm(X, y, kernel='rbf', C=0.5):\n",
        "    clf = svm.SVC(kernel=kernel, C=C)\n",
        "    \n",
        "    # print(f\"Fitting {kernel} kernel...\")\n",
        "    start = time.time()\n",
        "    clf.fit(X, y)\n",
        "    end = time.time()\n",
        "    # print(\"Fitted in {} seconds\".format(end - start))\n",
        "    \n",
        "    return clf"
      ]
    },
    {
      "cell_type": "code",
      "execution_count": 7,
      "metadata": {
        "id": "OH6g65kUf633"
      },
      "outputs": [],
      "source": [
        "def new_train_knn_pca(X, y, n_components=PCA_N_COMPONENTS,k=N_NEIGHBORS):\n",
        "    with open(\"train_set.json\") as f:\n",
        "        individuals = json.load(f)\n",
        "\n",
        "    C1 = []\n",
        "    C2 = []\n",
        "\n",
        "    for dir, set in individuals.items():\n",
        "        print(\"Generating C1 for {}...\".format(dir))\n",
        "        C1.append(generate_C1(set))\n",
        "        print(\"Generating C2 for {}...\".format(dir))\n",
        "        C2.append(generate_C2(set))\n",
        "    \n",
        "    X = [*C1, *C2]\n",
        "\n",
        "    scaler = StandardScaler()\n",
        "    scaler.fit(X)\n",
        "    X = scaler.transform(X)\n",
        "    pca = PCA(n_components=n_components)\n",
        "    pca.fit(X)\n",
        "    X = pca.transform(X)\n",
        "    knn = KNeighborsClassifier(n_neighbors=k)\n",
        "    knn.fit(X, [*[1 for individual in C1], *[0 for individual in C2]])\n",
        "    return knn"
      ]
    },
    {
      "cell_type": "code",
      "execution_count": 62,
      "metadata": {
        "id": "AMTQ31-7f636"
      },
      "outputs": [],
      "source": [
        "def test_svm(clf):\n",
        "    with open(\"test_set.json\") as f:\n",
        "            individuals = json.load(f)\n",
        "\n",
        "    switch = 0\n",
        "    correct = 0\n",
        "    for dir, set in individuals.items():\n",
        "        if (switch):\n",
        "            img = PIL.ImageOps.posterize(Image.open(set[1]),3)\n",
        "            img.save('new_name.png')\n",
        "            res = clf.predict(\n",
        "                [get_image(set[0]) - get_image('new_name.png')])\n",
        "            if (res[0] == np.int64(1)): correct +=1\n",
        "            # print(type(res[0]))\n",
        "            switch = 0\n",
        "        else:\n",
        "            img = PIL.ImageOps.posterize(Image.open(set[2]),3)\n",
        "            img.save('new_name.png')\n",
        "            res = clf.predict(\n",
        "                [get_image(set[0]) - get_image('new_name.png')])\n",
        "            if (res[0] == np.int64(0)): correct +=1\n",
        "            # print(res[0])\n",
        "            switch = 1\n",
        "    accuracy = correct / len(individuals)\n",
        "    # print(\"Accuracy = {}\".format(accuracy))\n",
        "    return accuracy\n"
      ]
    },
    {
      "cell_type": "markdown",
      "metadata": {
        "id": "VLt8Mje1QszG"
      },
      "source": [
        "### K-fold cross validation"
      ]
    },
    {
      "cell_type": "code",
      "execution_count": 15,
      "metadata": {
        "id": "iIbr4ywKXIvY"
      },
      "outputs": [],
      "source": [
        "from sklearn.model_selection import KFold"
      ]
    },
    {
      "cell_type": "code",
      "execution_count": 16,
      "metadata": {
        "id": "vIYUgReLS8Yn"
      },
      "outputs": [],
      "source": [
        "def cross_validate_params_svm(X, y, C, kernel):\n",
        "    kf = KFold(n_splits=5)\n",
        "    kf.get_n_splits(X)\n",
        "\n",
        "    accuracies = []\n",
        "    for train_index, test_index in kf.split(X):\n",
        "        X_train, X_test = [X[i] for i in train_index], [X[i] for i in test_index]\n",
        "        y_train, y_test = [y[i] for i in train_index], [y[i] for i in test_index]\n",
        "\n",
        "        \n",
        "        clf = svm.SVC(C=C, kernel=kernel)\n",
        "        clf.fit(X_train, y_train)\n",
        "        y_hat = clf.predict(X_test)\n",
        "\n",
        "        score = 0\n",
        "        for predicted, target in zip(y_hat, y_test):\n",
        "            if y_hat == y_test:\n",
        "                score += 1\n",
        "\n",
        "        accuracies.append(score/len(y_test))\n",
        "\n",
        "    return np.mean(accuracies)\n",
        "\n",
        "\n",
        "def cross_validate_params_knn_pca(X, y, K, n_components):\n",
        "    kf = KFold(n_splits=5)\n",
        "    kf.get_n_splits(X)\n",
        "\n",
        "    accuracies = []\n",
        "\n",
        "    for train_index, test_index in kf.split(X):\n",
        "        X_train, X_test = [X[i] for i in train_index], [X[i] for i in test_index]\n",
        "        y_train, y_test = [y[i] for i in train_index], [y[i] for i in test_index]\n",
        "\n",
        "        scaler = StandardScaler()\n",
        "        scaler.fit(X_train)\n",
        "        X_train_scaled = scaler.transform(X_train)\n",
        "        pca = PCA(n_components=min(n_components, len(X_train)))\n",
        "        pca.fit(X_train_scaled)\n",
        "        X_scaled_reduced = pca.transform(X_train_scaled)\n",
        "        knn = KNeighborsClassifier(n_neighbors=K)\n",
        "        knn.fit(X_scaled_reduced, y_train)\n",
        "\n",
        "        scaler.fit(X_test)\n",
        "        X_test_scaled = scaler.transform(X_test)\n",
        "        pca.fit(X_test_scaled)\n",
        "        X_test_scaled_reduced = pca.transform(X_test_scaled)\n",
        "\n",
        "        y_hat = knn.predict(X_scaled_reduced)\n",
        "\n",
        "        score = 0\n",
        "        for predicted, target in zip(y_hat, y_test):\n",
        "            if y_hat == y_test:\n",
        "                score += 1\n",
        "\n",
        "        accuracies.append(score/len(y_test))\n",
        "    return np.mean(accuracies)\n",
        "\n",
        "\n",
        "def k_fold_cross_validation_svm(C_values, kernels):\n",
        "    X, y = get_sets('train')\n",
        "    for kernel in kernels:\n",
        "        for C in C_values:\n",
        "            score = cross_validate_params_svm(X, y, C, kernel)\n",
        "            print(\"C: {}, kernel: {}, accuracy: {}\".format(C, kernel, score))\n",
        "\n",
        "def k_fold_cross_validation_pca_knn(K_values, n_components_values):\n",
        "    X, y = get_sets('train')\n",
        "    for K in K_values:\n",
        "        for n_components in n_components_values:\n",
        "            #return cross_validate_params_knn_pca(X, y, K, n_components)\n",
        "            score = cross_validate_params_knn_pca(X, y, K, n_components)\n",
        "            print(\"k:{}, N components: {}, accuracy: {}\".format(K, n_components, score))"
      ]
    },
    {
      "cell_type": "code",
      "execution_count": 46,
      "metadata": {},
      "outputs": [
        {
          "data": {
            "text/plain": [
              "79"
            ]
          },
          "execution_count": 46,
          "metadata": {},
          "output_type": "execute_result"
        }
      ],
      "source": [
        "with open(\"train_set.json\") as f:\n",
        "    individuals = json.load(f)\n",
        "len(individuals)"
      ]
    },
    {
      "cell_type": "code",
      "execution_count": null,
      "metadata": {
        "id": "aH3NTMFLf64A"
      },
      "outputs": [],
      "source": [
        "kernels = ['poly', 'rbf', 'sigmoid', 'linear']\n",
        "C_values = [0.01, 0.1, 1, 10, 100, 1000]\n",
        "k_fold_cross_validation_svm(C_values=C_values, kernels=kernels)"
      ]
    },
    {
      "cell_type": "code",
      "execution_count": null,
      "metadata": {
        "id": "r9qRlBEcb3o1"
      },
      "outputs": [],
      "source": [
        "K_values = [2, 4, 8, 16, 32]\n",
        "K_values = [8]\n",
        "n_components = [10, 20, 30, 40, 50, 60, 70, 80]\n",
        "k_fold_cross_validation_pca_knn(K_values=K_values, n_components_values=n_components)"
      ]
    },
    {
      "cell_type": "markdown",
      "metadata": {
        "id": "9zl8jzYUaemq"
      },
      "source": [
        "### Test"
      ]
    },
    {
      "cell_type": "code",
      "execution_count": null,
      "metadata": {},
      "outputs": [],
      "source": [
        "image = Image.open('images/0001/CFD-BF-001-009-F.jpg')\n",
        "\n",
        "inverted_image = PIL.ImageOps.posterize(image, 1)\n",
        "inverted_image\n",
        "# inverted_image.save('new_name.png')"
      ]
    },
    {
      "cell_type": "code",
      "execution_count": 63,
      "metadata": {
        "id": "0VFPB1h4f638"
      },
      "outputs": [],
      "source": [
        "def train(kernel, C, X, y):\n",
        "    accuracy = -1\n",
        "    # while accuracy < 0.9:\n",
        "    clf = new_train_svm(X, y, kernel, C)\n",
        "    accuracy = test_svm(clf)\n",
        "    print(\"Accuracy = {}\".format(accuracy))\n",
        "    print(\"C = {}\".format(C))\n",
        "    print(\"Kernel = {}\".format(kernel))"
      ]
    },
    {
      "cell_type": "code",
      "execution_count": 10,
      "metadata": {
        "id": "F73lrJ-Tf63-"
      },
      "outputs": [],
      "source": [
        "X, y = get_sets('train')"
      ]
    },
    {
      "cell_type": "code",
      "execution_count": 64,
      "metadata": {
        "id": "IBeasnRbzRKR"
      },
      "outputs": [
        {
          "name": "stdout",
          "output_type": "stream",
          "text": [
            "Accuracy = 0.9873417721518988\n",
            "C = 1\n",
            "Kernel = rbf\n"
          ]
        }
      ],
      "source": [
        "train(kernel='rbf', C=1, X=X, y=y)"
      ]
    },
    {
      "cell_type": "code",
      "execution_count": null,
      "metadata": {
        "id": "k2NLhM0-f64D"
      },
      "outputs": [],
      "source": [
        "knn = new_train_knn_pca()"
      ]
    },
    {
      "cell_type": "code",
      "execution_count": null,
      "metadata": {
        "id": "Pe1bBkTXf64E"
      },
      "outputs": [],
      "source": [
        "correct = 0\n",
        "X, y = get_sets('test')\n",
        "scaler = StandardScaler()\n",
        "scaler.fit(X)\n",
        "X = scaler.transform(X)\n",
        "pca = PCA(n_components=PCA_N_COMPONENTS)\n",
        "pca.fit(X)\n",
        "X = pca.transform(X)\n",
        "count = 0\n",
        "\n",
        "for set in X:\n",
        "    if (count < 50):\n",
        "        res = knn.predict([set])\n",
        "        if (res[0] == np.int64(1)): correct +=1\n",
        "        count += 1\n",
        "    else:\n",
        "        res = knn.predict([set])\n",
        "        if (res[0] == np.int64(0)): correct +=1\n",
        "\n",
        "\n",
        "print(\"Accuracy = {}\".format(correct/len(individuals)))\n"
      ]
    },
    {
      "cell_type": "code",
      "execution_count": null,
      "metadata": {
        "id": "cehv86D7f64F"
      },
      "outputs": [],
      "source": [
        "knn.predict([get_image(\"images/00911/00911fa010_960530.tif\") - get_image(\"images/00510/00510fa010h_940519.tif\")])"
      ]
    }
  ],
  "metadata": {
    "accelerator": "GPU",
    "colab": {
      "collapsed_sections": [],
      "name": "train.ipynb",
      "provenance": []
    },
    "kernelspec": {
      "display_name": "Python 3.8.10 64-bit",
      "language": "python",
      "name": "python3"
    },
    "language_info": {
      "codemirror_mode": {
        "name": "ipython",
        "version": 3
      },
      "file_extension": ".py",
      "mimetype": "text/x-python",
      "name": "python",
      "nbconvert_exporter": "python",
      "pygments_lexer": "ipython3",
      "version": "3.8.10"
    },
    "orig_nbformat": 4,
    "vscode": {
      "interpreter": {
        "hash": "31f2aee4e71d21fbe5cf8b01ff0e069b9275f58929596ceb00d14d90e3e16cd6"
      }
    }
  },
  "nbformat": 4,
  "nbformat_minor": 0
}
