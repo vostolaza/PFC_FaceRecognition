{
 "cells": [
  {
   "cell_type": "code",
   "execution_count": 3,
   "metadata": {},
   "outputs": [],
   "source": [
    "import face_recognition\n",
    "from email.mime import base\n",
    "from utils import IMAGE_PATH\n",
    "import numpy as np\n",
    "import random as rd\n",
    "import os\n",
    "import time\n",
    "import pickle\n",
    "import utils\n",
    "import json\n",
    "from sklearn import svm\n",
    "from sklearn.decomposition import PCA\n",
    "from sklearn.preprocessing import StandardScaler\n",
    "from sklearn.neighbors import KNeighborsClassifier"
   ]
  },
  {
   "cell_type": "code",
   "execution_count": 4,
   "metadata": {},
   "outputs": [],
   "source": [
    "N_SAMPLES = 10\n",
    "PCA_N_COMPONENTS=25\n",
    "N_NEIGHBORS=10"
   ]
  },
  {
   "cell_type": "code",
   "execution_count": 5,
   "metadata": {},
   "outputs": [],
   "source": [
    "def get_image(path):\n",
    "    picture = face_recognition.load_image_file(path)\n",
    "    return face_recognition.face_encodings(picture)[0]\n",
    "\n",
    "\n",
    "def generate_C1(set):\n",
    "    return get_image(set[0]) - get_image(set[1])\n",
    "\n",
    "def generate_C2(set):\n",
    "    return get_image(set[0]) - get_image(set[2])"
   ]
  },
  {
   "cell_type": "code",
   "execution_count": 37,
   "metadata": {},
   "outputs": [],
   "source": [
    "def get_sets():\n",
    "    with open(\"test_set.json\") as f:\n",
    "        individuals = json.load(f)\n",
    "\n",
    "    C1 = []\n",
    "    C2 = []\n",
    "\n",
    "    count = 0\n",
    "    for dir, set in individuals.items():\n",
    "        # print(\"Generating C1 for {}...\".format(dir))\n",
    "        C1.append(generate_C1(set))\n",
    "        # print(\"Generating C2 for {}...\".format(dir))\n",
    "        C2.append(generate_C2(set))\n",
    "        if count == 50: break\n",
    "    return[*C1, *C2], [*[1 for individual in C1], *[0 for individual in C2]]"
   ]
  },
  {
   "cell_type": "code",
   "execution_count": 58,
   "metadata": {},
   "outputs": [],
   "source": [
    "def new_train_svm(X, y, kernel='rbf', C=0.5):\n",
    "    with open(\"train_set.json\") as f:\n",
    "        individuals = json.load(f)\n",
    "\n",
    "    clf = svm.SVC(kernel=kernel, C=C)\n",
    "    \n",
    "    # print(f\"Fitting {kernel} kernel...\")\n",
    "    start = time.time()\n",
    "    clf.fit(X, y)\n",
    "    end = time.time()\n",
    "    # print(\"Fitted in {} seconds\".format(end - start))\n",
    "    \n",
    "    return clf"
   ]
  },
  {
   "cell_type": "code",
   "execution_count": 49,
   "metadata": {},
   "outputs": [],
   "source": [
    "def new_train_knn_pca(n_components=PCA_N_COMPONENTS,k=N_NEIGHBORS):\n",
    "    with open(\"train_set.json\") as f:\n",
    "        individuals = json.load(f)\n",
    "\n",
    "    C1 = []\n",
    "    C2 = []\n",
    "\n",
    "    for dir, set in individuals.items():\n",
    "        print(\"Generating C1 for {}...\".format(dir))\n",
    "        C1.append(generate_C1(set))\n",
    "        print(\"Generating C2 for {}...\".format(dir))\n",
    "        C2.append(generate_C2(set))\n",
    "    \n",
    "    X = [*C1, *C2]\n",
    "\n",
    "    scaler = StandardScaler()\n",
    "    scaler.fit(X)\n",
    "    X = scaler.transform(X)\n",
    "    pca = PCA(n_components=n_components)\n",
    "    pca.fit(X)\n",
    "    X = pca.transform(X)\n",
    "    knn = KNeighborsClassifier(n_neighbors=k)\n",
    "    knn.fit(X, [*[1 for individual in C1], *[0 for individual in C2]])\n",
    "    return knn"
   ]
  },
  {
   "cell_type": "code",
   "execution_count": null,
   "metadata": {},
   "outputs": [],
   "source": [
    "X, y = get_sets()\n",
    "clf = new_train_svm(X, y)"
   ]
  },
  {
   "cell_type": "code",
   "execution_count": 40,
   "metadata": {},
   "outputs": [],
   "source": [
    "def test_svm(clf):\n",
    "    with open(\"test_set.json\") as f:\n",
    "            individuals = json.load(f)\n",
    "\n",
    "    switch = 0\n",
    "    correct = 0\n",
    "    for dir, set in individuals.items():\n",
    "        if (switch):\n",
    "            res = clf.predict([get_image(set[0]) - get_image(set[1])])\n",
    "            if (res[0] == np.int64(1)): correct +=1\n",
    "            # print(type(res[0]))\n",
    "            switch = 0\n",
    "        else:\n",
    "            res = clf.predict([get_image(set[0]) - get_image(set[2])])\n",
    "            if (res[0] == np.int64(0)): correct +=1\n",
    "            # print(res[0])\n",
    "            switch = 1\n",
    "    accuracy = correct / len(individuals)\n",
    "    # print(\"Accuracy = {}\".format(accuracy))\n",
    "    return accuracy\n"
   ]
  },
  {
   "cell_type": "code",
   "execution_count": 55,
   "metadata": {},
   "outputs": [],
   "source": [
    "def train(kernel, C_values, X, y):\n",
    "    accuracy = -1\n",
    "    # while accuracy < 0.9:\n",
    "    for C in C_values:\n",
    "        clf = new_train_svm(X, y, kernel, C)\n",
    "        accuracy = test_svm(clf)\n",
    "        print(\"Accuracy = {}\".format(accuracy))\n",
    "        print(\"C = {}\".format(C))\n",
    "        print(\"Kernel = {}\".format(kernel))"
   ]
  },
  {
   "cell_type": "code",
   "execution_count": 60,
   "metadata": {},
   "outputs": [],
   "source": [
    "X, y = get_sets()"
   ]
  },
  {
   "cell_type": "code",
   "execution_count": 50,
   "metadata": {},
   "outputs": [],
   "source": [
    "C_values = [0.01, 0.1, 1, 10, 100, 1000]"
   ]
  },
  {
   "cell_type": "code",
   "execution_count": 61,
   "metadata": {},
   "outputs": [
    {
     "name": "stdout",
     "output_type": "stream",
     "text": [
      "Accuracy = 0.56\n",
      "C = 0.01\n",
      "Kernel = poly\n",
      "Accuracy = 0.59\n",
      "C = 0.1\n",
      "Kernel = poly\n",
      "Accuracy = 1.0\n",
      "C = 1\n",
      "Kernel = poly\n",
      "Accuracy = 1.0\n",
      "C = 10\n",
      "Kernel = poly\n",
      "Accuracy = 1.0\n",
      "C = 100\n",
      "Kernel = poly\n",
      "Accuracy = 1.0\n",
      "C = 1000\n",
      "Kernel = poly\n",
      "Accuracy = 1.0\n",
      "C = 0.01\n",
      "Kernel = rbf\n",
      "Accuracy = 1.0\n",
      "C = 0.1\n",
      "Kernel = rbf\n",
      "Accuracy = 1.0\n",
      "C = 1\n",
      "Kernel = rbf\n",
      "Accuracy = 1.0\n",
      "C = 10\n",
      "Kernel = rbf\n",
      "Accuracy = 1.0\n",
      "C = 100\n",
      "Kernel = rbf\n",
      "Accuracy = 1.0\n",
      "C = 1000\n",
      "Kernel = rbf\n",
      "Accuracy = 0.68\n",
      "C = 0.01\n",
      "Kernel = sigmoid\n",
      "Accuracy = 0.68\n",
      "C = 0.1\n",
      "Kernel = sigmoid\n",
      "Accuracy = 0.7\n",
      "C = 1\n",
      "Kernel = sigmoid\n",
      "Accuracy = 0.52\n",
      "C = 10\n",
      "Kernel = sigmoid\n",
      "Accuracy = 0.48\n",
      "C = 100\n",
      "Kernel = sigmoid\n",
      "Accuracy = 0.45\n",
      "C = 1000\n",
      "Kernel = sigmoid\n",
      "Accuracy = 0.68\n",
      "C = 0.01\n",
      "Kernel = linear\n",
      "Accuracy = 0.68\n",
      "C = 0.1\n",
      "Kernel = linear\n",
      "Accuracy = 0.73\n",
      "C = 1\n",
      "Kernel = linear\n",
      "Accuracy = 0.74\n",
      "C = 10\n",
      "Kernel = linear\n",
      "Accuracy = 0.83\n",
      "C = 100\n",
      "Kernel = linear\n",
      "Accuracy = 0.89\n",
      "C = 1000\n",
      "Kernel = linear\n"
     ]
    }
   ],
   "source": [
    "kernels = ['poly', 'rbf', 'sigmoid', 'linear']\n",
    "for kernel in kernels:\n",
    "    train(kernel, C_values, X, y)"
   ]
  },
  {
   "cell_type": "code",
   "execution_count": null,
   "metadata": {},
   "outputs": [],
   "source": [
    "knn = new_train_knn_pca()"
   ]
  },
  {
   "cell_type": "code",
   "execution_count": null,
   "metadata": {},
   "outputs": [],
   "source": [
    "with open(\"test_set.json\") as f:\n",
    "        individuals = json.load(f)\n",
    "\n",
    "correct = 0\n",
    "X = get_test_sets()\n",
    "scaler = StandardScaler()\n",
    "scaler.fit(X)\n",
    "X = scaler.transform(X)\n",
    "pca = PCA(n_components=PCA_N_COMPONENTS)\n",
    "pca.fit(X)\n",
    "X = pca.transform(X)\n",
    "count = 0\n",
    "for set in X:\n",
    "    if (count < 50):\n",
    "        res = knn.predict([set])\n",
    "        if (res[0] == np.int64(1)): correct +=1\n",
    "        count += 1\n",
    "    else:\n",
    "        res = knn.predict([set])\n",
    "        if (res[0] == np.int64(0)): correct +=1\n",
    "\n",
    "\n",
    "print(\"Accuracy = {}\".format(correct/len(individuals)))\n"
   ]
  },
  {
   "cell_type": "code",
   "execution_count": null,
   "metadata": {},
   "outputs": [],
   "source": [
    "knn.predict([get_image(\"images/00911/00911fa010_960530.tif\") - get_image(\"images/00510/00510fa010h_940519.tif\")])"
   ]
  }
 ],
 "metadata": {
  "interpreter": {
   "hash": "916dbcbb3f70747c44a77c7bcd40155683ae19c65e1c03b4aa3499c5328201f1"
  },
  "kernelspec": {
   "display_name": "Python 3.10.4 64-bit",
   "language": "python",
   "name": "python3"
  },
  "language_info": {
   "codemirror_mode": {
    "name": "ipython",
    "version": 3
   },
   "file_extension": ".py",
   "mimetype": "text/x-python",
   "name": "python",
   "nbconvert_exporter": "python",
   "pygments_lexer": "ipython3",
   "version": "3.10.4"
  },
  "orig_nbformat": 4
 },
 "nbformat": 4,
 "nbformat_minor": 2
}
